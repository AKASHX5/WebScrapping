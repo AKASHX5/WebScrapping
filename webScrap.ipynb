{
 "cells": [
  {
   "cell_type": "code",
   "execution_count": null,
   "metadata": {},
   "outputs": [],
   "source": [
    "import bs4\n",
    "import ssl\n",
    "\n",
    "from urllib.request import urlopen as ureq\n",
    "from bs4 import BeautifulSoup as Bs\n",
    "my_url=\"https://ryanscomputers.com/laptop-notebook.html\"\n",
    "print (my_url)\n",
    "## openning the connection and grabing the page\n",
    "\n",
    "uClient=ureq(my_url)\n",
    "\n",
    "page_html=uClient.read()\n",
    "\n",
    "uClient.close()\n",
    "#html parsing\n",
    "page_soup=Bs(page_html, \"html.parser\")\n",
    "\n",
    "\n",
    "box_info=page_soup.findAll(\"div\",{\"class\":\"box-info\"})\n",
    "\n"
   ]
  },
  {
   "cell_type": "code",
   "execution_count": 44,
   "metadata": {},
   "outputs": [
    {
     "name": "stdout",
     "output_type": "stream",
     "text": [
      "TITLE: I-life ZEDAir Intel Atom Z3735F (1.33-1.83Ghz, 2GB DDR3, 32GB eMMC) 14 Inch, Win-10 Home, Silver Notebook\n",
      "PRICE: Tk 16,500\n",
      "Product_ID: Product Id: 33.722.07\n",
      "TITLE: I-life ZEDAir Intel Atom Z3735F (1.33-1.83Ghz, 2GB DDR3, 32GB eMMC) 14 Inch, Win-10 Home, GREY Notebook\n",
      "PRICE: Tk 16,500\n",
      "Product_ID: Product Id: 33.722.08\n",
      "TITLE: I-life ZEDAir-H Intel Atom x5-Z8350 (1.44-1.92Ghz, 2GB DDR3, 32GB eMMC, 500HDD) 14 Inch, Win-10 Home, Silver Notebook\n",
      "PRICE: Tk 19,900\n",
      "Product_ID: Product Id: 33.722.21\n",
      "TITLE: Asus X441NA Intel CDC N3350 (1.10GHz, 4GB DDR3, 500GB) DVD-RW, 14 Inch Silver Gradient Notebook with Endless OS\n",
      "PRICE: Tk 21,500\n",
      "Product_ID: Product Id: 33.006.638\n",
      "TITLE: Asus X441NA Intel CDC N3350 (1.10GHz, 4GB DDR3, 500GB) DVD-RW, 14 Inch Black Gradient Notebook with Endless OS\n",
      "PRICE: Tk 21,500\n",
      "Product_ID: Product Id: 33.006.650\n",
      "TITLE: HP 14-BW066AU AMD DUAL CORE E2-9000E (1.5-2.0GHz, 4GB 1866MHz, 500GB, DVD-RW) 14.1 Inch Black Notebook (1 Yr Warranty) #2FL44PA\n",
      "PRICE: Tk 22,000\n",
      "Product_ID: Product Id: 33.020.849\n",
      "TITLE: HP 15-BW099AU AMD DUAL CORE E2-9000E (1.5-2.0GHz, 4GB 1866MHz, 500GB, DVD-RW) 15.6 Inch Black Notebook (1 Yr Warranty) #2FL42PA\n",
      "PRICE: Tk 22,000\n",
      "Product_ID: Product Id: 33.020.848\n",
      "TITLE: Lenovo IP110s Intel Celeron N3060 (1.60-2.48GHz, 2GB Onboard, 128GB SSD) 11.6 Inch Silver Notebook (1 Yr Warranty)\t\n",
      "PRICE: Tk 22,000\n",
      "Product_ID: Product Id: 33.200.300\n",
      "TITLE: Lenovo IP110s Intel Celeron N3060 (1.60-2.48GHz, 2GB Onboard, 128GB SSD) 11.6 Inch Blue Notebook (1 Yr Warranty)\t\n",
      "PRICE: Tk 22,000\n",
      "Product_ID: Product Id: 33.200.301\n",
      "TITLE: Lenovo MIIX310 Intel Atom X5-Z8350 (1.44Ghz, 2GB DDR3L Onboard, 64GB eMMC) 10 Inch Full Touch IPS Display, Win 10 Home, Detachable Notebook (No Carry Bag) (1 Yr Warranty)\t\n",
      "PRICE: Tk 22,500\n",
      "Product_ID: Product Id: 33.200.271\n",
      "TITLE: Asus X441NA Intel CDC N3350 (1.10GHz, 4GB DDR3, 500GB) DVD-RW, 14 Inch Silver Gradient Notebook with Win-10 Home #GA052T\n",
      "PRICE: Tk 22,700\n",
      "Product_ID: Product Id: 33.006.734\n",
      "TITLE: Acer Aspire ES1-533 Intel CDC N3350 (1.10-2.4GHz, 4GB DDR3L, 500GB, DVD-RW) 15.6 Inch Midnight Black Notebook #S-NX.GFTSI.019\n",
      "PRICE: Tk 23,000\n",
      "Product_ID: Product Id: 33.002.757\n",
      "TITLE: Lenovo IP110 Inel CDC N3060 (1.60-2.48GHz, 4GB DDR3, 1TB) 15.6 Inch 180 Degree Flip Display Black Notebook #80T70069IN (1 Yr Warranty)\t\n",
      "PRICE: Tk 23,000\n",
      "Product_ID: Product Id: 33.200.285\n",
      "TITLE: Acer Aspire A315-31 C421 Intel CDC N3350 (1.10 to 2.40GHz, 4GB 1600MHz, 500GB, No-ODD) 15.6 Inch Obsidian Black Notebook (2 Yr Warranty) #NX.GNTSI.014\n",
      "PRICE: Tk 23,500\n",
      "Product_ID: Product Id: 33.002.776\n",
      "TITLE: Lenovo IP110 Intel CDC N3060 (1.60-2.48GHz, 4GB DDR3, 1TB) 14 Inch 180 Degree Flip Display Black Notebook #80T60034IN (1 Yr Warranty)\n",
      "PRICE: Tk 23,500\n",
      "Product_ID: Product Id: 33.200.284\n",
      "TITLE: Dell Inspiron 15-3552 Intel CDC N3060 (1.60GHz, 4GB, 500GB) 15.6 Inch BLACK Notebook (2 Yr Warranty)\n",
      "PRICE: Tk 24,000\n",
      "Product_ID: Product Id: 33.013.880\n",
      "TITLE: Lenovo IP320 7th Gen AMD E2-9000 (1.8-2.2GHz, 4GB DDR4, 1TB) ATI Radeon Shared Graphics, 14 Inch Onyx Black Notebook (1 Yr Warranty) #80XU004KIN\n",
      "PRICE: Tk 24,500\n",
      "Product_ID: Product Id: 33.200.395\n",
      "TITLE: Lenovo IP320 7th Gen AMD E2-9000 (1.8-2.2GHz, 4GB DDR4, 1TB) ATI Radeon Shared Graphics, 14 Inch Denim Blue Notebook (1 Yr Warranty) #80XU0048IN\n",
      "PRICE: Tk 24,500\n",
      "Product_ID: Product Id: 33.200.394\n",
      "TITLE: Lenovo IP320 7th Gen AMD E2-9000 (1.8-2.2GHz, 4GB DDR4, 1TB) ATI Radeon Shared Graphics, 14 Inch Platinum Gray Notebook (1 Yr Warranty) #80XU001NIN / 80XU0047IN\n",
      "PRICE: Tk 24,700\n",
      "Product_ID: Product Id: 33.200.330\n",
      "TITLE: Asus E203NAH Intel CDC N3350 (1.10GHz, 4GB DDR3, 500GB) 11.6 Inch, Win-10 Home, Star Grey Notebook #FD009T\n",
      "PRICE: Tk 24,900\n",
      "Product_ID: Product Id: 33.006.689\n",
      "TITLE: Asus E203NAH Intel CDC N3350 (1.10GHz, 4GB DDR3, 500GB) 11.6 Inch, Win-10 Home, Petal Pink Notebook #FD032T (with Optional Mini Carrybag)\n",
      "PRICE: Tk 24,900\n",
      "Product_ID: Product Id: 33.006.720\n",
      "TITLE: Acer Aspire ES1-132-P491 Intel PQC N4200 (1.10GHz, 4GB DDR3, 500GB, No-ODD) 11.6 Inch Midnight Black Notebook (2 Yr Warranty) #S-NX.GG2SI.006 / NX.GG2SI.013 / NX.GG2SI.020 (With MiniBag or Sleeve Case)\n",
      "PRICE: Tk 25,000\n",
      "Product_ID: Product Id: 33.002.751\n",
      "TITLE: Lenovo IP110 Intel PQC N3710 (1.60GHz, 4GB DDR3, 1TB) 15.6 Inch Ebony Black Notebook (1 Yr Warranty)\t\n",
      "PRICE: Tk 25,000\n",
      "Product_ID: Product Id: 33.200.303\n",
      "TITLE: Acer Aspire ES1-533 Intel PQC N4200 (1.1-2.5GHz, 4GB DDR3L, 1TB) 15.6 Inch Midnight Black Notebook NX.GFTSI.010 / NX.GFTSI.031\n",
      "PRICE: Tk 25,500\n",
      "Product_ID: Product Id: 33.002.748\n"
     ]
    }
   ],
   "source": [
    "box_info=page_soup.findAll(\"div\",{\"class\":\"box-info\"})\n",
    "\n",
    "filename=\"Ryanlaptop.csv\"\n",
    "f=open(filename,'a')\n",
    "headers= 'title, price, Id  \\n'\n",
    "f.write(headers)\n",
    "\n",
    "for containers in box_info:\n",
    "    title=containers.a[\"title\"]\n",
    "    \n",
    "    price_info=containers.findAll(\"span\",{\"class\":\"price\"})\n",
    "    price=price_info[0].text\n",
    "    \n",
    "    product_name=containers.findAll(\"p\",{\"class\":\"productid-show\"})\n",
    "    name=product_name[0].text\n",
    "    \n",
    "    print(\"TITLE: \" +title)\n",
    "    print(\"PRICE: \" +price)\n",
    "    print(\"Product_ID: \" +name)\n",
    "    \n",
    "    f.write(title.replace(',','|') +','+ price.replace(',','-') +','+ name )\n",
    "    f.write('\\n')\n",
    "    \n",
    "f.close()"
   ]
  },
  {
   "cell_type": "code",
   "execution_count": null,
   "metadata": {},
   "outputs": [],
   "source": []
  },
  {
   "cell_type": "code",
   "execution_count": null,
   "metadata": {},
   "outputs": [],
   "source": [
    "\n"
   ]
  },
  {
   "cell_type": "code",
   "execution_count": null,
   "metadata": {},
   "outputs": [],
   "source": []
  },
  {
   "cell_type": "code",
   "execution_count": null,
   "metadata": {},
   "outputs": [],
   "source": []
  },
  {
   "cell_type": "code",
   "execution_count": null,
   "metadata": {},
   "outputs": [],
   "source": [
    "\n"
   ]
  },
  {
   "cell_type": "code",
   "execution_count": null,
   "metadata": {},
   "outputs": [],
   "source": []
  },
  {
   "cell_type": "code",
   "execution_count": null,
   "metadata": {},
   "outputs": [],
   "source": []
  }
 ],
 "metadata": {
  "kernelspec": {
   "display_name": "Python 3",
   "language": "python",
   "name": "python3"
  },
  "language_info": {
   "codemirror_mode": {
    "name": "ipython",
    "version": 3
   },
   "file_extension": ".py",
   "mimetype": "text/x-python",
   "name": "python",
   "nbconvert_exporter": "python",
   "pygments_lexer": "ipython3",
   "version": "3.6.4"
  }
 },
 "nbformat": 4,
 "nbformat_minor": 2
}
